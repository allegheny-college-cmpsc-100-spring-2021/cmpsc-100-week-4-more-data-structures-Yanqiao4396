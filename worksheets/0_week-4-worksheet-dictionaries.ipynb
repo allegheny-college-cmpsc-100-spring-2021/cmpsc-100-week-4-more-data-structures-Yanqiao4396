{
 "cells": [
  {
   "cell_type": "markdown",
   "metadata": {},
   "source": [
    "# Worksheet 4.1.0: Data structures (`dictionary`)\n",
    "\n",
    "<div class=\"alert alert-block alert-info\">\n",
    "This worksheet will invite you to tinker with the examples, as they are live code cells. Instead of the normal fill-in-the-blank style of notebook, feel free to mess with the code directly. Remember that -- to test things out -- the <a href = \"../sandbox/week-0-sandbox.ipynb\"><b>Sandbox</b></a> is available to you as well.\n",
    "</div>\n",
    "\n",
    "<div class=\"alert alert-block alert-warning\" id = \"warning\">\n",
    "The work this week also offers the opportunity to tie up the server in loopish operations. Should you be unable to run cells, simply locate the <b>Kernel</b> menu at the top of the screen and click <b>Interrupt Kernel</b>. This should jumpstart the kernel again and clear out the infinite loop behavior.</div>\n",
    "\n",
    "## Looking it up in a `dictionary`\n",
    "\n",
    "If you're like me, you find `list`s to be pure chaos. We can't avoid them -- and they have their uses -- but I like my data to be prettier, neater, and easier to reference. For example, in our last worksheet, we looked a well which was modeled by the following `list`:"
   ]
  },
  {
   "cell_type": "code",
   "execution_count": null,
   "metadata": {},
   "outputs": [],
   "source": [
    "well_production = [1440, 1750, 1230, 980, 1900, 1475, 730]"
   ]
  },
  {
   "cell_type": "markdown",
   "metadata": {},
   "source": [
    "Now, I know that we're pretty confident that our table of `7` values maps easily to the `7` days of the week. But, how can we be so sure? Just because the professor tells you? In computer science, some assumptions lead down poorly-built roads.\n",
    "\n",
    "When specifying details and providing order, we want a `dictionary`. Our well water example might look like this:"
   ]
  },
  {
   "cell_type": "code",
   "execution_count": null,
   "metadata": {},
   "outputs": [],
   "source": [
    "daily_well_production = {\n",
    "    \"Sunday\": 1440,\n",
    "    \"Monday\": 1750,\n",
    "    \"Tuesday\": 1230,\n",
    "    \"Wednesday\": 980,\n",
    "    \"Thursday\": 1900,\n",
    "    \"Friday\": 1475,\n",
    "    \"Saturday\": 730\n",
    "}\n",
    "print(daily_well_production)"
   ]
  },
  {
   "cell_type": "markdown",
   "metadata": {},
   "source": [
    "You're right to think that this is a little more than different. What we have in common here is that values are separated by commas -- but, beyond that, we're in new territory.\n",
    "\n",
    "What we see in the above data structure is a series of `key:value` pairs, also referred to as \"associative\" data. It's referred to that way because each value is _associated_ with another corresponding `key`. For example:\n",
    "\n",
    "|Key     |Value       |\n",
    "|--------|------------|\n",
    "|Sunday  | 1440       |\n",
    "|Monday  | 1750       |\n",
    "|Tuesday | 1230       |\n",
    "|Wednesday| 980       |\n",
    "|Thursday | 1900      |\n",
    "|Friday   | 1475      |\n",
    "|Saturday | 730       |\n",
    "\n",
    "Also of note: our _syntax_. Recalling our `list` and `tuple` notation and adding a new rule about `dictionary` data structures, we can now say:\n",
    "\n",
    "|Structure |Denotation |\n",
    "|----------|-----------|\n",
    "|`list`    | `[]`      |\n",
    "|`tuple`   | `()`      |\n",
    "|`dict`    | `{}`      |\n",
    "\n",
    "To create empty versions of each:"
   ]
  },
  {
   "cell_type": "code",
   "execution_count": null,
   "metadata": {},
   "outputs": [],
   "source": [
    "# list\n",
    "a_list = []\n",
    "# tuple\n",
    "a_tuple = ()\n",
    "# dict\n",
    "a_dict = {}"
   ]
  },
  {
   "cell_type": "markdown",
   "metadata": {},
   "source": [
    "### `key`s vs. `index`es\n",
    "\n",
    "For `dict` object, the concept of the `index` works a bit differently. Revisitng our `daily_well_production`, we _cannot_ say `daily_well_production[0]`. In fact, we can't address any of the `index`es of a `dictionary` for one simply reason: _`dict` objects **don't have indexes**_.\n",
    "\n",
    "Instead, they have `keys`. In many ways, these are easier than thinking about addresses or positions in a `list`. `dict` structures still have a `len`:"
   ]
  },
  {
   "cell_type": "code",
   "execution_count": null,
   "metadata": {},
   "outputs": [],
   "source": [
    "len(daily_well_production)"
   ]
  },
  {
   "cell_type": "markdown",
   "metadata": {},
   "source": [
    "However, this `len`gth is of somewhat limited use. Unless we want to take an average, or use the number of `key`s in a `dictionary` for some purpose, the structure is actually _more useful_ because of its ability to call up values by name, or `key`:"
   ]
  },
  {
   "cell_type": "code",
   "execution_count": null,
   "metadata": {},
   "outputs": [],
   "source": [
    "print(\"Wednesday:\",daily_well_production[\"Wednesday\"])\n",
    "print(\"Friday:\",daily_well_production[\"Friday\"])"
   ]
  },
  {
   "cell_type": "markdown",
   "metadata": {},
   "source": [
    "Here, note that we stil use square brackets -- `[]` -- to call our `key`s. This is one of the similarities between data structures in Python. However, we use the _value of the `key`_ to refer to a specific entry in the `dictionary`.\n",
    "\n",
    "### `key`s and data types\n",
    "\n",
    "Notice that I wrote _value of the `key`_. Let's think a bit about what that means. A question for you: _can values in Python have different data types_?\n",
    "\n",
    "Sure. This means that `key`s can also have different data types. Let's consider the following `boolean` representation of a statistical trick in which we flip a coin 100 times in which the number of \"heads\" (the overse of the coin) is marked as `True` and the number of \"tails\" (the reverse of the coin):"
   ]
  },
  {
   "cell_type": "code",
   "execution_count": null,
   "metadata": {},
   "outputs": [],
   "source": [
    "heads_or_tails = {\n",
    "    True: 53,\n",
    "    False: 47\n",
    "}"
   ]
  },
  {
   "cell_type": "markdown",
   "metadata": {},
   "source": [
    "Here, our `key`s are `boolean` values. So, we can refer to them thus:"
   ]
  },
  {
   "cell_type": "code",
   "execution_count": null,
   "metadata": {},
   "outputs": [],
   "source": [
    "print(\"Number of 'heads':\",heads_or_tails[True])\n",
    "print(\"Number of 'tails':\",heads_or_tails[False])"
   ]
  },
  {
   "cell_type": "markdown",
   "metadata": {},
   "source": [
    "We can even refer to these in the form of `integer`s. But -- take note -- these are not `index`es: they are literally the values they represent:"
   ]
  },
  {
   "cell_type": "code",
   "execution_count": null,
   "metadata": {},
   "outputs": [],
   "source": [
    "# My cat talks a lot\n",
    "average_daily_meows = {\n",
    "    0: 1, # <-- he must've been mad at me\n",
    "    5: 2.3, # <-- Something like a half-meow\n",
    "    7: 1.4,\n",
    "    10: 100,\n",
    "    123: 1102, # <-- very likely also could have been mad at me\n",
    "}\n",
    "\n",
    "print(\"123 times per day:\",average_daily_meows[123],\"days\")"
   ]
  },
  {
   "cell_type": "markdown",
   "metadata": {},
   "source": [
    "Again, _**important distinction**_: any time we refer to a `key` in a `dictionary`, it is _not an `index`_.\n",
    "\n",
    "### Adding to a `dictionary`\n",
    "\n",
    "While there are methods available to `dictionary` objects, there are a few different ways that we can add to or update values in our `dictionary`. One of the easiest is simply to reassign the value of a `key`:"
   ]
  },
  {
   "cell_type": "code",
   "execution_count": null,
   "metadata": {},
   "outputs": [],
   "source": [
    "average_daily_meows[10] += 10\n",
    "print(average_daily_meows)"
   ]
  },
  {
   "cell_type": "markdown",
   "metadata": {},
   "source": [
    "However, if a key _doesn't exist_, we can always add it directly, too, using \"subscript\" notation:"
   ]
  },
  {
   "cell_type": "code",
   "execution_count": null,
   "metadata": {},
   "outputs": [],
   "source": [
    "average_daily_meows[15] = 2\n",
    "print(average_daily_meows)"
   ]
  },
  {
   "cell_type": "markdown",
   "metadata": {},
   "source": [
    "#### `try`ing to be `except`ional\n",
    "\n",
    "There are cases where a `dictionary` _doesn't_ have a key that we'd like to update or assign _and_ we don't precisely know what the key is or will be. Trippy.\n",
    "\n",
    "Let's suppose we have four friends: Dante, Quinn, Lisa, and Jordan. They play Tic-Tac-Toe a lot. I mean _a lot_. In fact, they have a kind of ongoing game in which they keep track of wins -- just to be sure they know who's the best. They are also all programmers so, of course, they decide create a program to keep track of their records.\n",
    "\n",
    "Let's have a look at the program as an example. (Notice the alternate `while` structure I use here and the new `break` directive -- based on what you know, what do you think they do?)"
   ]
  },
  {
   "cell_type": "code",
   "execution_count": null,
   "metadata": {},
   "outputs": [],
   "source": [
    "# Tic-Tac-Toe record program\n",
    "\n",
    "players = {}\n",
    "\n",
    "while True:\n",
    "    choice = input(\"For what player are we reporting a win? (Enter [N] to quit): \")\n",
    "    if choice == \"N\":\n",
    "        break\n",
    "    try:\n",
    "        players[choice] += 1\n",
    "    except KeyError:\n",
    "        players[choice] = 1\n",
    "print(players)"
   ]
  },
  {
   "cell_type": "markdown",
   "metadata": {},
   "source": [
    "It appears that Dante and Quinn have trouble winning -- at least recently.\n",
    "\n",
    "However, let's entertain the following section of code:\n",
    "\n",
    "```python\n",
    "    try:\n",
    "        players[choice] += 1\n",
    "    except KeyError:\n",
    "        players[choice] = 1\n",
    "```\n",
    "\n",
    "I'll get right to it: if we would've attempted to `+= 1` a player whose name wasn't in the list, we would hit an error:\n",
    "\n",
    "```\n",
    "---------------------------------------------------------------------------\n",
    "KeyError                                  Traceback (most recent call last)\n",
    "<ipython-input-21-4cd79fbfa960> in <module>\n",
    "----> 1 players[\"Quinn\"] += 1\n",
    "\n",
    "KeyError: 'Quinn'\n",
    "```\n",
    "\n",
    "The reason? We can't _increment_ (a formal name for `+=`), a `key` that doesn't exist in the `dictionary`. Without our `try`/`except` statement, we would've hit an error.\n",
    "\n",
    "However, following our recent lesson that the last line of the error serves a highly informational purpose:\n",
    "\n",
    "```\n",
    "KeyError: 'Quinn`\n",
    "```\n",
    "\n",
    "tells us everything we need to know. A `KeyError` means that a given `key` isn't in the `dictionary`. Our statement:\n",
    "\n",
    "```python\n",
    "    try:\n",
    "        players[choice] += 1\n",
    "    except KeyError:\n",
    "        players[choice] = 1\n",
    "```\n",
    "\n",
    "literally reads: `try` to do the following thing but, in the case that there's an error -- an `except`ion (in this case, a `KeyError`) -- we should do something specific to set up the `key`. \n",
    "\n",
    "Because we know that we're reporting wins for Tic-Tac-Toe, we must be reporting _at least one_. So, the first time someone's name appears in the list, it _has to be_ because they won _a game_.\n",
    "\n",
    "This is functionally equivalent to:\n",
    "\n",
    "```python\n",
    "    if choice in players:\n",
    "        players[choice] += 1\n",
    "    else:\n",
    "        players[choice] = 1\n",
    "```\n",
    "\n",
    "Why the two ways of doing it? As with all things programming, there are many ways to achieve any of our objectives in the language. This one, in particular, is the subject of some debate as to which is more effective, readable, or is fastest. The distinction is actually somewhat moot. You can choose your favorite.\n",
    "\n",
    "### Dimensionality\n",
    "\n",
    "Another key area where `dictionary` objects differ from `list`s or other data structures is in their ability to be _multi-dimensional_. Just when you thought `try`-`except` was a mindbending experience, we're gonna go full on _Back to the Future_.\n",
    "\n",
    "We can think of `list`, `tuple`, or other data structures as generally \"one-dimensional.\" They go one layer of information deep. `dictionary` objects, well, can go much farther down the rabbit hole. Take the following for example:\n",
    "\n",
    "| Fruit | Quantity | Price |\n",
    "|:------|:---------|:------|\n",
    "| Apple | 10       | .99   |\n",
    "| Banana| 3        | 1.01  |\n",
    "\n",
    "Here, the \"Fruit\" column represents our \"primary\" key -- everything else is a member of a `dictionary` which acts like an _additional column_. We could consider each entry equivalent to a _row_:"
   ]
  },
  {
   "cell_type": "code",
   "execution_count": null,
   "metadata": {},
   "outputs": [],
   "source": [
    "# We can call this a two-dimensional dictionary -- a dictionary whose keys have a dictionary as a value\n",
    "crate_of_fruit = {\n",
    "    \"apple\": {\"quantity\": 10,\"price\": .99},\n",
    "    \"banana\": {\"quantity\": 3, \"price\": 1.01}\n",
    "}\n",
    "\n",
    "for fruit in crate_of_fruit:\n",
    "    print(f\"The value of the {fruit} is {crate_of_fruit[fruit]['price']}\")\n",
    "    print(f\"We have {crate_of_fruit[fruit]['quantity']} of them.\")"
   ]
  },
  {
   "cell_type": "markdown",
   "metadata": {},
   "source": [
    "Theoretically, we could go on, and on, and on, and on for a long time.\n",
    "\n",
    "### Putting it all together\n",
    "\n",
    "Birdwatching in an alley is pretty bleak. But, at least there are _some_ birds. Here's a table of what a typical week looks like in terms of bird sightings:"
   ]
  },
  {
   "cell_type": "markdown",
   "metadata": {},
   "source": [
    "`print` the contents of the following table:\n",
    "    \n",
    "|Bird type | # seen |\n",
    "|----------|--------|\n",
    "|Crow      | 10 |\n",
    "|Gull      | 2  |\n",
    "|Pigeon    | 1  |\n",
    "|Hawk      | 1  |\n",
    "\n",
    "* You will need to create a `dictionary` to house the table's data\n",
    "* Use an `input` to record both the bird type and number of that type observed\n",
    "* `print` the `dictionary` at the end\n",
    "\n",
    "The final output should appear like this (I'll provide the `print` statement):\n",
    "\n",
    "```\n",
    "Crow\t10\n",
    "Gull\t2\n",
    "Pigeon  1\n",
    "Hawk\t1\n",
    "```\n",
    "\n",
    "I'll start you off with some code:"
   ]
  },
  {
   "cell_type": "code",
   "execution_count": null,
   "metadata": {},
   "outputs": [],
   "source": [
    "birds = {}\n",
    "\n",
    "print(\"Enter N at first prompt to end.\")\n",
    "\n",
    "while True:\n",
    "    bird = input(\"Bird seen:\")\n",
    "    if bird == \"N\":\n",
    "        break\n",
    "    count = input(\"Number seen:\")\n",
    "    # TODO: Add:\n",
    "    #       - bird as a key to the birds dictionary\n",
    "    #       - set the value of the key to count\n",
    "\n",
    "# TODO: Iterate over birds dictionary\n",
    "    print(f\" {bird}\\t{birds[bird]}\") # <-- The space here is intentional"
   ]
  },
  {
   "cell_type": "code",
   "execution_count": null,
   "metadata": {},
   "outputs": [],
   "source": []
  }
 ],
 "metadata": {
  "kernelspec": {
   "display_name": "Python 3",
   "language": "python",
   "name": "python3"
  },
  "language_info": {
   "codemirror_mode": {
    "name": "ipython",
    "version": 3
   },
   "file_extension": ".py",
   "mimetype": "text/x-python",
   "name": "python",
   "nbconvert_exporter": "python",
   "pygments_lexer": "ipython3",
   "version": "3.8.5"
  }
 },
 "nbformat": 4,
 "nbformat_minor": 4
}
